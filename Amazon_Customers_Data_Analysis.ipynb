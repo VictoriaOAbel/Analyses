{
  "nbformat": 4,
  "nbformat_minor": 0,
  "metadata": {
    "colab": {
      "provenance": [],
      "authorship_tag": "ABX9TyN/S0dGf/px0uo9M/AdWPvC",
      "include_colab_link": true
    },
    "kernelspec": {
      "name": "python3",
      "display_name": "Python 3"
    },
    "language_info": {
      "name": "python"
    }
  },
  "cells": [
    {
      "cell_type": "markdown",
      "metadata": {
        "id": "view-in-github",
        "colab_type": "text"
      },
      "source": [
        "<a href=\"https://colab.research.google.com/github/VictoriaOAbel/Analyses/blob/main/Amazon_Customers_Data_Analysis.ipynb\" target=\"_parent\"><img src=\"https://colab.research.google.com/assets/colab-badge.svg\" alt=\"Open In Colab\"/></a>"
      ]
    },
    {
      "cell_type": "markdown",
      "source": [
        "How to Read Data from SQLite Database"
      ],
      "metadata": {
        "id": "tyoX71NwK2u1"
      }
    },
    {
      "cell_type": "code",
      "execution_count": null,
      "metadata": {
        "id": "hq4IBr2YJCLT"
      },
      "outputs": [],
      "source": [
        "import pandas as pd\n",
        "import numpy as np\n",
        "import seaborn as sns\n",
        "import matplotlib.pyplot as plt\n",
        "import sqlite3"
      ]
    },
    {
      "cell_type": "code",
      "source": [
        "sqlite3.connect('amazon.db')"
      ],
      "metadata": {
        "id": "CS4fev2NPwq8"
      },
      "execution_count": null,
      "outputs": []
    },
    {
      "cell_type": "code",
      "source": [
        "con = sqlite3.connect(r'/content/database.sqlite')"
      ],
      "metadata": {
        "id": "88gUpTJWQBot"
      },
      "execution_count": null,
      "outputs": []
    },
    {
      "cell_type": "code",
      "source": [
        "type(con)"
      ],
      "metadata": {
        "id": "NwC6IkVcQE4n"
      },
      "execution_count": null,
      "outputs": []
    },
    {
      "cell_type": "code",
      "source": [
        "df = pd.read_sql_query(\"SELECT * FROM REVIEWS\" , con)"
      ],
      "metadata": {
        "id": "EDPcv75aQI35"
      },
      "execution_count": null,
      "outputs": []
    },
    {
      "cell_type": "code",
      "source": [
        "df.shape"
      ],
      "metadata": {
        "id": "eNmFEXBrQIzp"
      },
      "execution_count": null,
      "outputs": []
    },
    {
      "cell_type": "markdown",
      "source": [
        "Data Preparation"
      ],
      "metadata": {
        "id": "PtKz6a2OK8sw"
      }
    },
    {
      "cell_type": "code",
      "source": [
        "type(df)"
      ],
      "metadata": {
        "id": "heDijD59K8AB"
      },
      "execution_count": null,
      "outputs": []
    },
    {
      "cell_type": "code",
      "source": [
        "df.head(4)"
      ],
      "metadata": {
        "id": "S0K4B_AHj0nW"
      },
      "execution_count": null,
      "outputs": []
    },
    {
      "cell_type": "code",
      "source": [
        "df.columns"
      ],
      "metadata": {
        "id": "ss3ZyFmJj0dR"
      },
      "execution_count": null,
      "outputs": []
    },
    {
      "cell_type": "code",
      "source": [
        "# Invalid row (not true)\n",
        "df['HelpfulnessNumerator'] > df['HelpfulnessDenominator']"
      ],
      "metadata": {
        "id": "ir4syhRxj0Zq"
      },
      "execution_count": null,
      "outputs": []
    },
    {
      "cell_type": "code",
      "source": [
        "df[df['HelpfulnessNumerator'] > df['HelpfulnessDenominator']]"
      ],
      "metadata": {
        "id": "Z_4ePXwhj0WT"
      },
      "execution_count": null,
      "outputs": []
    },
    {
      "cell_type": "code",
      "source": [
        "df_valid = df[df['HelpfulnessNumerator'] <= df['HelpfulnessDenominator']]"
      ],
      "metadata": {
        "id": "gEV4e2yuj0Qh"
      },
      "execution_count": null,
      "outputs": []
    },
    {
      "cell_type": "markdown",
      "source": [
        "The code snippet you've provided filters a DataFrame to include only rows where the value of `HelpfulnessNumerator` is greater than the value of `HelpfulnessDenominator`. Here’s how you can do it in Python using pandas:\n",
        "\n",
        "```python\n",
        "# Assuming df is your DataFrame\n",
        "filtered_df = df[df['HelpfulnessNumerator'] > df['HelpfulnessDenominator']]\n",
        "print(filtered_df)\n",
        "```\n",
        "\n",
        "This code creates a new DataFrame (`filtered_df`) containing only the rows where `HelpfulnessNumerator` is greater than `HelpfulnessDenom"
      ],
      "metadata": {
        "id": "uvzYbqYhQ8N_"
      }
    },
    {
      "cell_type": "code",
      "source": [
        "df_valid.shape"
      ],
      "metadata": {
        "id": "iDqnLSU1mWo6"
      },
      "execution_count": null,
      "outputs": []
    },
    {
      "cell_type": "code",
      "source": [
        "df_valid.columns"
      ],
      "metadata": {
        "id": "o1dDFhF9mWlU"
      },
      "execution_count": null,
      "outputs": []
    },
    {
      "cell_type": "code",
      "source": [
        "df_valid.duplicated(['UserId', 'ProfileName', 'Time', 'Text'])"
      ],
      "metadata": {
        "id": "ZTFIs2iVj0EQ"
      },
      "execution_count": null,
      "outputs": []
    },
    {
      "cell_type": "code",
      "source": [
        "df_valid[df_valid.duplicated(['UserId', 'ProfileName', 'Time', 'Text'])]"
      ],
      "metadata": {
        "id": "shRosg6om777"
      },
      "execution_count": null,
      "outputs": []
    },
    {
      "cell_type": "code",
      "source": [
        "data = df_valid.drop_duplicates(subset=['UserId', 'ProfileName', 'Time', 'Text'])\n",
        "\n",
        "# data = df_valid.drop_duplicates(subset=['UserId', 'ProfileName', 'Time', 'Text'], inplace=True)"
      ],
      "metadata": {
        "id": "4mDsuh3um7sO"
      },
      "execution_count": null,
      "outputs": []
    },
    {
      "cell_type": "code",
      "source": [
        "data.shape"
      ],
      "metadata": {
        "id": "8lVYt-Obm7he"
      },
      "execution_count": null,
      "outputs": []
    },
    {
      "cell_type": "code",
      "source": [
        "data.dtypes"
      ],
      "metadata": {
        "id": "e6kTQkyzoOe-"
      },
      "execution_count": null,
      "outputs": []
    },
    {
      "cell_type": "code",
      "source": [
        "data['Time']"
      ],
      "metadata": {
        "id": "-4YgjpcFm7Ua"
      },
      "execution_count": null,
      "outputs": []
    },
    {
      "cell_type": "code",
      "source": [
        "pd.to_datetime(data['Time'])"
      ],
      "metadata": {
        "id": "nxlSsx3fo1Br"
      },
      "execution_count": null,
      "outputs": []
    },
    {
      "cell_type": "code",
      "source": [
        "data['Time'] = pd.to_datetime(data['Time'], unit='s')"
      ],
      "metadata": {
        "id": "XM_CXcY6pmx6"
      },
      "execution_count": null,
      "outputs": []
    },
    {
      "cell_type": "code",
      "source": [
        "import warnings\n",
        "from warnings import filterwarnings\n",
        "filterwarnings('ignore')\n",
        "# warnings.filterwarnings('ignore')"
      ],
      "metadata": {
        "id": "DtXrnUR8pXH4"
      },
      "execution_count": null,
      "outputs": []
    },
    {
      "cell_type": "code",
      "source": [
        "data['Time'] = pd.to_datetime(data['Time'], unit='s')"
      ],
      "metadata": {
        "id": "aV5gXq-9o0cN"
      },
      "execution_count": null,
      "outputs": []
    },
    {
      "cell_type": "markdown",
      "source": [
        "How Amazon Recommend Products"
      ],
      "metadata": {
        "id": "XV9MHNMlLChb"
      }
    },
    {
      "cell_type": "code",
      "source": [
        "# Analyse to what user Amazon can recommend more products"
      ],
      "metadata": {
        "id": "cj0gZpVILCHJ"
      },
      "execution_count": null,
      "outputs": []
    },
    {
      "cell_type": "code",
      "source": [
        "data.shape"
      ],
      "metadata": {
        "id": "hx04NzcfqEpm"
      },
      "execution_count": null,
      "outputs": []
    },
    {
      "cell_type": "code",
      "source": [
        "data.columns"
      ],
      "metadata": {
        "id": "egm3uCTmqEf6"
      },
      "execution_count": null,
      "outputs": []
    },
    {
      "cell_type": "code",
      "source": [
        "data['ProfileName']"
      ],
      "metadata": {
        "id": "Tk-VCz3NqEaE"
      },
      "execution_count": null,
      "outputs": []
    },
    {
      "cell_type": "code",
      "source": [
        "data['ProfileName'].unique"
      ],
      "metadata": {
        "id": "bIsM9ckJqETK"
      },
      "execution_count": null,
      "outputs": []
    },
    {
      "cell_type": "code",
      "source": [
        "# Any unique functions, returns count\n",
        "data['ProfileName'].nunique"
      ],
      "metadata": {
        "id": "wdISU9drpqT-"
      },
      "execution_count": null,
      "outputs": []
    },
    {
      "cell_type": "code",
      "source": [
        "data['UserId'].nunique"
      ],
      "metadata": {
        "id": "kL9KbTlZpqQW"
      },
      "execution_count": null,
      "outputs": []
    },
    {
      "cell_type": "code",
      "source": [
        "data.columns"
      ],
      "metadata": {
        "id": "NRyBTA8er4Xg"
      },
      "execution_count": null,
      "outputs": []
    },
    {
      "cell_type": "code",
      "source": [
        "data.groupby('UserId').agg({'Summary': 'count', 'Text': 'count', 'Score': 'mean','ProductId': 'count'})"
      ],
      "metadata": {
        "id": "GRkIYywjpqM9"
      },
      "execution_count": null,
      "outputs": []
    },
    {
      "cell_type": "code",
      "source": [
        "recommend_df = data.groupby('UserId').agg({'Summary': 'count', 'Text': 'count', 'Score': 'mean','ProductId': 'count'}).sort_values(by='ProductId', ascending=False)"
      ],
      "metadata": {
        "id": "Q0PW8rE_rcqF"
      },
      "execution_count": null,
      "outputs": []
    },
    {
      "cell_type": "code",
      "source": [
        "recommend_df"
      ],
      "metadata": {
        "id": "bRW6LEmbrciA"
      },
      "execution_count": null,
      "outputs": []
    },
    {
      "cell_type": "code",
      "source": [
        "recommend_df.columns = ['Number_of_Summary', 'Number_of_Text', 'Average_Score', 'Number_of_Products']"
      ],
      "metadata": {
        "id": "EAglnZS-pqG1"
      },
      "execution_count": null,
      "outputs": []
    },
    {
      "cell_type": "code",
      "source": [
        "recommend_df"
      ],
      "metadata": {
        "id": "to7x4HGjs6O2"
      },
      "execution_count": null,
      "outputs": []
    },
    {
      "cell_type": "code",
      "source": [
        "recommend_df.index"
      ],
      "metadata": {
        "id": "Rsa4iNZ1s8fW"
      },
      "execution_count": null,
      "outputs": []
    },
    {
      "cell_type": "code",
      "source": [
        "recommend_df.index[0:10]"
      ],
      "metadata": {
        "id": "5MOSd0K0s8Zo"
      },
      "execution_count": null,
      "outputs": []
    },
    {
      "cell_type": "code",
      "source": [
        "recommend_df['Number_of_Products'][0:10]"
      ],
      "metadata": {
        "id": "Wkh2o9UttCB8"
      },
      "execution_count": null,
      "outputs": []
    },
    {
      "cell_type": "code",
      "source": [
        "recommend_df['Number_of_Products'][0:10].values"
      ],
      "metadata": {
        "id": "bjw7HDYgtB-i"
      },
      "execution_count": null,
      "outputs": []
    },
    {
      "cell_type": "code",
      "source": [
        "plt.bar(recommend_df.index[0:10], recommend_df['Number_of_Products'][0:10].values)\n",
        "plt.xticks(rotation='vertical')"
      ],
      "metadata": {
        "id": "PD61h0WNtvoE"
      },
      "execution_count": null,
      "outputs": []
    },
    {
      "cell_type": "code",
      "source": [
        "# plt.bar(recommend_df.index[0:10], recommend_df['Number_of_Products'][0:10].values)\n",
        "# plt.xticks(rotation=90)\n",
        "# plt.show()"
      ],
      "metadata": {
        "id": "6Is5fPQ1tB7k"
      },
      "execution_count": null,
      "outputs": []
    },
    {
      "cell_type": "markdown",
      "source": [
        "Analysing which Product has good number of reviews"
      ],
      "metadata": {
        "id": "mac0aCIhLGxQ"
      }
    },
    {
      "cell_type": "code",
      "source": [
        "# Which product has good number of reviews"
      ],
      "metadata": {
        "id": "CUOG0U02uCKi"
      },
      "execution_count": null,
      "outputs": []
    },
    {
      "cell_type": "code",
      "source": [
        "data.columns"
      ],
      "metadata": {
        "id": "3xjdykjbuCG_"
      },
      "execution_count": null,
      "outputs": []
    },
    {
      "cell_type": "code",
      "source": [
        "data['ProductId']"
      ],
      "metadata": {
        "id": "q7sNCx7Gu07s"
      },
      "execution_count": null,
      "outputs": []
    },
    {
      "cell_type": "code",
      "source": [
        "# data['ProductId'].value_counts()"
      ],
      "metadata": {
        "id": "rCtyxweovUFN"
      },
      "execution_count": null,
      "outputs": []
    },
    {
      "cell_type": "code",
      "source": [
        "data['ProductId'].unique()"
      ],
      "metadata": {
        "id": "LzLieJ7Eu8PI"
      },
      "execution_count": null,
      "outputs": []
    },
    {
      "cell_type": "code",
      "source": [
        "len(data['ProductId'].unique())"
      ],
      "metadata": {
        "id": "ExpkKVeyu67_"
      },
      "execution_count": null,
      "outputs": []
    },
    {
      "cell_type": "code",
      "source": [
        "# Most frequent sold products with high number of reviews"
      ],
      "metadata": {
        "id": "y4a5yzmxvP3G"
      },
      "execution_count": null,
      "outputs": []
    },
    {
      "cell_type": "code",
      "source": [
        "prod_count = data['ProductId'].value_counts().to_frame()"
      ],
      "metadata": {
        "id": "VjqqOS1xuCDp"
      },
      "execution_count": null,
      "outputs": []
    },
    {
      "cell_type": "code",
      "source": [
        "prod_count"
      ],
      "metadata": {
        "id": "4jGSkYd3uCAi"
      },
      "execution_count": null,
      "outputs": []
    },
    {
      "cell_type": "code",
      "source": [
        "# Only consider products sold more than 500 times\n",
        "prod_count['ProductId'] > 500"
      ],
      "metadata": {
        "id": "q3jos2KMuB9J"
      },
      "execution_count": null,
      "outputs": []
    },
    {
      "cell_type": "code",
      "source": [
        "prod_count[prod_count['ProductId'] > 500]"
      ],
      "metadata": {
        "id": "NW8oZ88juB4O"
      },
      "execution_count": null,
      "outputs": []
    },
    {
      "cell_type": "code",
      "source": [
        "prod_count[prod_count['ProductId'] > 500].index"
      ],
      "metadata": {
        "id": "U0np2_J4uBvq"
      },
      "execution_count": null,
      "outputs": []
    },
    {
      "cell_type": "code",
      "source": [
        "freq_prod_ids = prod_count[prod_count['ProductId'] > 500].index"
      ],
      "metadata": {
        "id": "GO2QyrdSLGdQ"
      },
      "execution_count": null,
      "outputs": []
    },
    {
      "cell_type": "code",
      "source": [
        "freq_prod_ids"
      ],
      "metadata": {
        "id": "mlSbXFuzwfVP"
      },
      "execution_count": null,
      "outputs": []
    },
    {
      "cell_type": "markdown",
      "source": [
        "The code snippet you provided counts the occurrences of each unique value in the `ProductId` column of the `data` DataFrame and converts the result into a new DataFrame called `prod_count`. Here’s the complete code with an explanation:\n",
        "\n",
        "```python\n",
        "# Counting the occurrences of each unique value in the 'ProductId' column\n",
        "prod_count = data['ProductId'].value_counts().to_frame()\n",
        "\n",
        "# Display the resulting DataFrame\n",
        "print(prod_count)\n",
        "```"
      ],
      "metadata": {
        "id": "xqwJGGDeRYGT"
      }
    },
    {
      "cell_type": "code",
      "source": [
        "data['ProductId'].isin(freq_prod_ids)"
      ],
      "metadata": {
        "id": "ixklC-DJwfRU"
      },
      "execution_count": null,
      "outputs": []
    },
    {
      "cell_type": "code",
      "source": [
        "fre_prod_df = data[data['ProductId'].isin(freq_prod_ids)]"
      ],
      "metadata": {
        "id": "Vl4m4xhzwfNM"
      },
      "execution_count": null,
      "outputs": []
    },
    {
      "cell_type": "code",
      "source": [
        "fre_prod_df"
      ],
      "metadata": {
        "id": "3OzCRxVrwfEQ"
      },
      "execution_count": null,
      "outputs": []
    },
    {
      "cell_type": "code",
      "source": [
        "fre_prod_df.columns"
      ],
      "metadata": {
        "id": "tk-fXmuBzg8o"
      },
      "execution_count": null,
      "outputs": []
    },
    {
      "cell_type": "code",
      "source": [
        "sns.countplot(x='ProductId', data=fre_prod_df)"
      ],
      "metadata": {
        "id": "v3PDCpIszZWp"
      },
      "execution_count": null,
      "outputs": []
    },
    {
      "cell_type": "code",
      "source": [
        "sns.countplot(y='ProductId', data=fre_prod_df)"
      ],
      "metadata": {
        "id": "JxCmoPO7zZN4"
      },
      "execution_count": null,
      "outputs": []
    },
    {
      "cell_type": "code",
      "source": [
        "sns.countplot(y='ProductId', data=fre_prod_df, hue='Score')"
      ],
      "metadata": {
        "id": "EmYmGMaNzZKX"
      },
      "execution_count": null,
      "outputs": []
    },
    {
      "cell_type": "markdown",
      "source": [
        "Understanding Behaviours of Amazon Users"
      ],
      "metadata": {
        "id": "xtlnwS72z_TN"
      }
    },
    {
      "cell_type": "code",
      "source": [
        "# Is there any difference between behaviour of frequent and non-frequent visitors\n",
        "data.columns"
      ],
      "metadata": {
        "id": "4k1MC-GLzZDg"
      },
      "execution_count": 1,
      "outputs": []
    },
    {
      "cell_type": "code",
      "source": [
        "x = data['UserId'].value_counts()\n",
        "x"
      ],
      "metadata": {
        "id": "x0UbW_vk0NTA"
      },
      "execution_count": null,
      "outputs": []
    },
    {
      "cell_type": "code",
      "source": [
        "data.head(7)"
      ],
      "metadata": {
        "id": "9Akrac9p0NFA"
      },
      "execution_count": null,
      "outputs": []
    },
    {
      "cell_type": "code",
      "source": [
        "data['UserId']"
      ],
      "metadata": {
        "id": "SA5uEiJSjUhu"
      },
      "execution_count": null,
      "outputs": []
    },
    {
      "cell_type": "code",
      "source": [
        "x['AY12DBB0U420B']"
      ],
      "metadata": {
        "id": "ZZ72SgtZkmdG"
      },
      "execution_count": null,
      "outputs": []
    },
    {
      "cell_type": "code",
      "source": [
        "data['viewer_type'] = data['UserId'].apply(lambda user : \"Frequent\" if x[user]>50 else \"Not Frequent\")"
      ],
      "metadata": {
        "id": "g0ke4FAYjUUL"
      },
      "execution_count": null,
      "outputs": []
    },
    {
      "cell_type": "code",
      "source": [
        "data.head(3)"
      ],
      "metadata": {
        "id": "tPM2IdJyjUON"
      },
      "execution_count": null,
      "outputs": []
    },
    {
      "cell_type": "code",
      "source": [
        "data['viewer_type'].unique( )"
      ],
      "metadata": {
        "id": "nrxdAJ8fjUG5"
      },
      "execution_count": null,
      "outputs": []
    },
    {
      "cell_type": "code",
      "source": [
        "# Creating Non-Frequent views dataframe\n",
        "data['viewer_type'] == 'Not Frequent'\n",
        "\n",
        "# Frequent views dataframe\n",
        "# data['viewer_type'] == 'Frequent'"
      ],
      "metadata": {
        "id": "rHPoxoFk0M7Z"
      },
      "execution_count": null,
      "outputs": []
    },
    {
      "cell_type": "code",
      "source": [
        "not_freq_df = data[data['viewer_type'] == 'Not Frequent']\n",
        "freq_df = data[data['viewer_type'] == 'Frequent']"
      ],
      "metadata": {
        "id": "LRjMVIhlmDt2"
      },
      "execution_count": null,
      "outputs": []
    },
    {
      "cell_type": "code",
      "source": [
        "freq_df['Score'].value_counts()\n",
        "# freq_df['Score'].value_counts(normalize=True)"
      ],
      "metadata": {
        "id": "twiszjy-mDmG"
      },
      "execution_count": null,
      "outputs": []
    },
    {
      "cell_type": "code",
      "source": [
        "#To convert to percentage\n",
        "freq_df['Score'].value_counts()/len(freq_df)*100"
      ],
      "metadata": {
        "id": "1JQPLngqnNvb"
      },
      "execution_count": null,
      "outputs": []
    },
    {
      "cell_type": "code",
      "source": [
        "not_freq_df['Score'].value_counts()/len(not_freq_df)*100"
      ],
      "metadata": {
        "id": "XJ37J76tnnK4"
      },
      "execution_count": null,
      "outputs": []
    },
    {
      "cell_type": "code",
      "source": [
        "freq_df['Score'].value_counts().plot()"
      ],
      "metadata": {
        "id": "TK_MJQc4mDem"
      },
      "execution_count": null,
      "outputs": []
    },
    {
      "cell_type": "code",
      "source": [
        "freq_df['Score'].value_counts().plot(kind='bar')"
      ],
      "metadata": {
        "id": "GqsE1nROnD2v"
      },
      "execution_count": null,
      "outputs": []
    },
    {
      "cell_type": "code",
      "source": [
        "not_freq_df['Score'].value_counts().plot(kind='bar')"
      ],
      "metadata": {
        "id": "d8VpEi1Vnx6V"
      },
      "execution_count": null,
      "outputs": []
    },
    {
      "cell_type": "markdown",
      "source": [
        "Analysing Your Frequent Users"
      ],
      "metadata": {
        "id": "Fcfg5imiLNgJ"
      }
    },
    {
      "cell_type": "code",
      "source": [
        "# Are frequent users more verbose\n",
        "data.columns"
      ],
      "metadata": {
        "id": "jf1nO20s0RO8"
      },
      "execution_count": null,
      "outputs": []
    },
    {
      "cell_type": "code",
      "source": [
        "data['Text']"
      ],
      "metadata": {
        "id": "FS_BxO4T0SDd"
      },
      "execution_count": null,
      "outputs": []
    },
    {
      "cell_type": "code",
      "source": [
        "data[['UserId', 'ProductId', 'Text']]"
      ],
      "metadata": {
        "id": "tDscU3tl0R-B"
      },
      "execution_count": null,
      "outputs": []
    },
    {
      "cell_type": "code",
      "source": [
        "data['Text']"
      ],
      "metadata": {
        "id": "XnbI1VGSpozz"
      },
      "execution_count": null,
      "outputs": []
    },
    {
      "cell_type": "code",
      "source": [
        "data['Text'][0]"
      ],
      "metadata": {
        "id": "H5OydkZ50Rxl"
      },
      "execution_count": null,
      "outputs": []
    },
    {
      "cell_type": "code",
      "source": [
        "type(data['Text'][0])"
      ],
      "metadata": {
        "id": "3bBdEmBwpySG"
      },
      "execution_count": null,
      "outputs": []
    },
    {
      "cell_type": "code",
      "source": [
        "type(data['Text'][0].split(' '))"
      ],
      "metadata": {
        "id": "jETQGmDkp8FI"
      },
      "execution_count": null,
      "outputs": []
    },
    {
      "cell_type": "code",
      "source": [
        "data['Text'][0].split(' ')"
      ],
      "metadata": {
        "id": "sY3nme3nn5UX"
      },
      "execution_count": null,
      "outputs": []
    },
    {
      "cell_type": "code",
      "source": [
        "len(data['Text'][0].split(' '))"
      ],
      "metadata": {
        "id": "RLtZZ2kxqETv"
      },
      "execution_count": null,
      "outputs": []
    },
    {
      "cell_type": "code",
      "source": [
        "# return len(text)\n",
        "def calculate_len(text):\n",
        "  return len(text.split(' '))\n",
        "\n",
        "# OR\n",
        "\n",
        "# def calculate_length(text):\n",
        "#     len(text.split(' '))"
      ],
      "metadata": {
        "id": "HIh1wp1wn5KA"
      },
      "execution_count": null,
      "outputs": []
    },
    {
      "cell_type": "code",
      "source": [
        "data['Text_length'] = data['Text'].apply(calculate_length)"
      ],
      "metadata": {
        "id": "fnMQ9k3fn5Bu"
      },
      "execution_count": null,
      "outputs": []
    },
    {
      "cell_type": "code",
      "source": [
        "data['viewer_type'].unique()"
      ],
      "metadata": {
        "id": "73ACQXSLqr7s"
      },
      "execution_count": null,
      "outputs": []
    },
    {
      "cell_type": "code",
      "source": [
        "not_freq_data = data[data['viewer_type'] == 'Not Frequent']\n",
        "freq_data = data[data['viewer_type'] == 'Frequent']"
      ],
      "metadata": {
        "id": "OXYNZIvxqrtM"
      },
      "execution_count": null,
      "outputs": []
    },
    {
      "cell_type": "code",
      "source": [
        "fig = plt.figure\n",
        "ax1 = fig.add_subplot(1,2,1)      # You can remove commas, no space i.e. 121 or 122\n",
        "ax1.boxplot(freq_data['Text_length'])\n",
        "ax1.set_xlabel('Frequency of frequent reviewers')\n",
        "ax1.set_xlim(0,600)\n",
        "\n",
        "ax2 = fig.add_subplot(1,2,2)\n",
        "ax2.boxplot(not_freq_data['Text_length'])\n",
        "ax2.set_xlabel('Frequency of not-frequent reviewers')\n",
        "ax2.set_ylim(0,600)"
      ],
      "metadata": {
        "id": "O86OB_jzrKjm"
      },
      "execution_count": null,
      "outputs": []
    },
    {
      "cell_type": "markdown",
      "source": [
        "Perform Sentiment Analysis on Data"
      ],
      "metadata": {
        "id": "sJjb9hf70TG7"
      }
    },
    {
      "cell_type": "code",
      "source": [
        "# Sentiment Analysis\n",
        "!pip install textblob"
      ],
      "metadata": {
        "id": "XCib-vHv0XZi"
      },
      "execution_count": null,
      "outputs": []
    },
    {
      "cell_type": "code",
      "source": [
        "from textblob import TextBlob"
      ],
      "metadata": {
        "id": "mGD-lrNj0YKt"
      },
      "execution_count": null,
      "outputs": []
    },
    {
      "cell_type": "code",
      "source": [
        "data['Summary']"
      ],
      "metadata": {
        "id": "FnmY7cTg0YFW"
      },
      "execution_count": null,
      "outputs": []
    },
    {
      "cell_type": "code",
      "source": [
        "data['Summary'][0]"
      ],
      "metadata": {
        "id": "I7Skl1CD0X-1"
      },
      "execution_count": null,
      "outputs": []
    },
    {
      "cell_type": "code",
      "source": [
        "TextBlob('Good Quality Dog Food')"
      ],
      "metadata": {
        "id": "xQPXzJzUt92j"
      },
      "execution_count": null,
      "outputs": []
    },
    {
      "cell_type": "code",
      "source": [
        "TextBlob('Good Quality Dog Food').sentiment"
      ],
      "metadata": {
        "id": "ixsNhFJZt9sC"
      },
      "execution_count": null,
      "outputs": []
    },
    {
      "cell_type": "code",
      "source": [
        "TextBlob('Good Quality Dog Food').sentiment.polarity"
      ],
      "metadata": {
        "id": "LsWODLjUt9m0"
      },
      "execution_count": null,
      "outputs": []
    },
    {
      "cell_type": "code",
      "source": [
        "data.shape"
      ],
      "metadata": {
        "id": "pPRRglw1t9hq"
      },
      "execution_count": null,
      "outputs": []
    },
    {
      "cell_type": "code",
      "source": [
        "sample = data[0:50000]"
      ],
      "metadata": {
        "id": "i2A4qpxPt9eX"
      },
      "execution_count": null,
      "outputs": []
    },
    {
      "cell_type": "code",
      "source": [
        "polarity = []           # Create blank list\n",
        "\n",
        "for text in sample['Summary']:\n",
        "    try:\n",
        "        polarity.append(TextBlob(text).sentiment.polarity)\n",
        "    except:\n",
        "        polarity.append(0)\n"
      ],
      "metadata": {
        "id": "LA3irN88uorZ"
      },
      "execution_count": null,
      "outputs": []
    },
    {
      "cell_type": "code",
      "source": [
        "len(polarity)"
      ],
      "metadata": {
        "id": "U-767x7Fuon1"
      },
      "execution_count": null,
      "outputs": []
    },
    {
      "cell_type": "code",
      "source": [
        "sample['polarity'] = polarity"
      ],
      "metadata": {
        "id": "IIswaV1guojc"
      },
      "execution_count": null,
      "outputs": []
    },
    {
      "cell_type": "code",
      "source": [
        "sample.head()"
      ],
      "metadata": {
        "id": "dRA10vqVuofd"
      },
      "execution_count": null,
      "outputs": []
    },
    {
      "cell_type": "code",
      "source": [
        "# Negative and Positive polarity\n",
        "\n",
        "sample_negative = sample['polarity']<0        # Negative polarity\n",
        "sample_positive = sample['polarity']>0        # Positive polarity"
      ],
      "metadata": {
        "id": "GbQmtRdQt9ZN"
      },
      "execution_count": null,
      "outputs": []
    },
    {
      "cell_type": "code",
      "source": [
        "sample_negative['Summary']"
      ],
      "metadata": {
        "id": "ssOIfXnXwOsk"
      },
      "execution_count": null,
      "outputs": []
    },
    {
      "cell_type": "code",
      "source": [
        "from collections import Counter"
      ],
      "metadata": {
        "id": "uq7v2rqsw4EV"
      },
      "execution_count": null,
      "outputs": []
    },
    {
      "cell_type": "code",
      "source": [
        "Counter(sample_negative['Summary'])"
      ],
      "metadata": {
        "id": "5bhIvX8PwOj7"
      },
      "execution_count": null,
      "outputs": []
    },
    {
      "cell_type": "code",
      "source": [
        "Counter(sample_negative['Summary']).most_common(10)"
      ],
      "metadata": {
        "id": "kg3HAaeCwOXS"
      },
      "execution_count": null,
      "outputs": []
    },
    {
      "cell_type": "code",
      "source": [
        "Counter(sample_positive['Summary'])"
      ],
      "metadata": {
        "id": "ywvblypaxc2t"
      },
      "execution_count": null,
      "outputs": []
    },
    {
      "cell_type": "code",
      "source": [
        "Counter(sample_positive['Summary']).most_common(10)"
      ],
      "metadata": {
        "id": "Qu9thtAVxHIb"
      },
      "execution_count": null,
      "outputs": []
    }
  ]
}