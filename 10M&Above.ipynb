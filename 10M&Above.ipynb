{
  "nbformat": 4,
  "nbformat_minor": 0,
  "metadata": {
    "colab": {
      "provenance": [],
      "authorship_tag": "ABX9TyMioLxfncGosGQDbjq7BSVh",
      "include_colab_link": true
    },
    "kernelspec": {
      "name": "python3",
      "display_name": "Python 3"
    },
    "language_info": {
      "name": "python"
    }
  },
  "cells": [
    {
      "cell_type": "markdown",
      "metadata": {
        "id": "view-in-github",
        "colab_type": "text"
      },
      "source": [
        "<a href=\"https://colab.research.google.com/github/VictoriaOAbel/Analyses/blob/main/10M%26Above.ipynb\" target=\"_parent\"><img src=\"https://colab.research.google.com/assets/colab-badge.svg\" alt=\"Open In Colab\"/></a>"
      ]
    },
    {
      "cell_type": "code",
      "execution_count": null,
      "metadata": {
        "id": "m2Pr02E5XMlF"
      },
      "outputs": [],
      "source": [
        "import pandas as pd\n",
        "import os"
      ]
    },
    {
      "cell_type": "code",
      "source": [
        "data_folder='/content/Week8'"
      ],
      "metadata": {
        "id": "Z0agggwUXOGv"
      },
      "execution_count": null,
      "outputs": []
    },
    {
      "cell_type": "code",
      "source": [
        "df=[]"
      ],
      "metadata": {
        "id": "x2JuB1CSba2O"
      },
      "execution_count": null,
      "outputs": []
    },
    {
      "cell_type": "code",
      "source": [
        "for file in os.listdir(data_folder):\n",
        "    if file.endswith('.xlsx'):\n",
        "        print('Loading file {0}...'.format(file))\n",
        "        df.append(pd.read_excel(os.path.join(data_folder,file)))"
      ],
      "metadata": {
        "id": "IZMG7Nd1bekW"
      },
      "execution_count": null,
      "outputs": []
    },
    {
      "cell_type": "code",
      "source": [
        "df_master=pd.concat(df, axis=0)\n",
        "df_master.to_excel('master file.xlsx', index=False)"
      ],
      "metadata": {
        "id": "VzAl6tQ4bjza"
      },
      "execution_count": null,
      "outputs": []
    },
    {
      "cell_type": "code",
      "source": [
        "tpt=pd.read_excel('/content/master file.xlsx')"
      ],
      "metadata": {
        "id": "SEmIqCLXhBKs"
      },
      "execution_count": null,
      "outputs": []
    },
    {
      "cell_type": "code",
      "source": [
        "tpt_cashwdl=tpt.loc[tpt['TXN_TYPE']=='CASH WITHDRAWAL',:]"
      ],
      "metadata": {
        "id": "WWh0Nnj6hK71"
      },
      "execution_count": null,
      "outputs": []
    },
    {
      "cell_type": "code",
      "source": [
        "sorted_cashwdl=tpt_cashwdl.sort_values('TRA_AMT',ascending=False)"
      ],
      "metadata": {
        "id": "v0jY1_E4jW3y"
      },
      "execution_count": null,
      "outputs": []
    },
    {
      "cell_type": "code",
      "source": [
        "sorted_cashwdl['TRA_AMT']>=10000000"
      ],
      "metadata": {
        "id": "Bh4bxstyjbyF"
      },
      "execution_count": null,
      "outputs": []
    },
    {
      "cell_type": "code",
      "source": [
        "aml_amt=sorted_cashwdl.loc[sorted_cashwdl['TRA_AMT']>=10000000,:]"
      ],
      "metadata": {
        "id": "JzPXU2G5jngI"
      },
      "execution_count": null,
      "outputs": []
    },
    {
      "cell_type": "code",
      "source": [
        "df_2=pd.DataFrame(aml_amt)"
      ],
      "metadata": {
        "id": "MFbxx5cajtBQ"
      },
      "execution_count": null,
      "outputs": []
    },
    {
      "cell_type": "code",
      "source": [
        "writer=pd.ExcelWriter('/content/10MAbove.xlsx')\n",
        "df_2.to_excel(writer,sheet_name='df_2',index=False)\n",
        "writer.save()"
      ],
      "metadata": {
        "id": "gtK_JIpojxZq"
      },
      "execution_count": null,
      "outputs": []
    },
    {
      "cell_type": "code",
      "source": [],
      "metadata": {
        "id": "hRfFTOfnj05_"
      },
      "execution_count": null,
      "outputs": []
    }
  ]
}