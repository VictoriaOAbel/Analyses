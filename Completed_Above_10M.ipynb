{
  "nbformat": 4,
  "nbformat_minor": 0,
  "metadata": {
    "colab": {
      "provenance": [],
      "authorship_tag": "ABX9TyPQWPYlXid4ybqGqlkL3sKt",
      "include_colab_link": true
    },
    "kernelspec": {
      "name": "python3",
      "display_name": "Python 3"
    },
    "language_info": {
      "name": "python"
    }
  },
  "cells": [
    {
      "cell_type": "markdown",
      "metadata": {
        "id": "view-in-github",
        "colab_type": "text"
      },
      "source": [
        "<a href=\"https://colab.research.google.com/github/VictoriaOAbel/Analyses/blob/main/Completed_Above_10M.ipynb\" target=\"_parent\"><img src=\"https://colab.research.google.com/assets/colab-badge.svg\" alt=\"Open In Colab\"/></a>"
      ]
    },
    {
      "cell_type": "code",
      "execution_count": null,
      "metadata": {
        "id": "jyEtZ0G7KdeI"
      },
      "outputs": [],
      "source": [
        "import pandas as pd\n",
        "import os"
      ]
    },
    {
      "cell_type": "code",
      "source": [
        "data_folder='./content/Bauchi'\n"
      ],
      "metadata": {
        "id": "1__OhZc1KzJ2"
      },
      "execution_count": null,
      "outputs": []
    },
    {
      "cell_type": "code",
      "source": [
        "df=[]"
      ],
      "metadata": {
        "id": "GV2so3CrFZV6"
      },
      "execution_count": null,
      "outputs": []
    },
    {
      "cell_type": "code",
      "source": [
        "for file in os.listdir(data_folder):\n",
        "    if file.endswith('.xlsx'):\n",
        "        print('Loading file {0}...'.format(file))\n",
        "        df.append(pd.read_excel(os.path.join(data_folder,file)))\n",
        "\n"
      ],
      "metadata": {
        "id": "3PtoKB7qMvcD"
      },
      "execution_count": null,
      "outputs": []
    },
    {
      "cell_type": "code",
      "source": [
        "df_master=pd.concat(df, axis=0)\n",
        "df_master.to_excel('master file.xlsx', index=False)"
      ],
      "metadata": {
        "id": "r1FerPvDL0gE"
      },
      "execution_count": null,
      "outputs": []
    },
    {
      "cell_type": "code",
      "source": [
        "tpt=pd.read_excel('/content/master file.xlsx')"
      ],
      "metadata": {
        "id": "_Wy709WWURz2"
      },
      "execution_count": null,
      "outputs": []
    },
    {
      "cell_type": "code",
      "source": [
        "tpt"
      ],
      "metadata": {
        "id": "XqRupaJCMQco"
      },
      "execution_count": null,
      "outputs": []
    },
    {
      "cell_type": "code",
      "source": [
        "tpt['TXN_TYPE']"
      ],
      "metadata": {
        "id": "jU_-EhyNXWWp"
      },
      "execution_count": null,
      "outputs": []
    },
    {
      "cell_type": "code",
      "source": [
        "tpt['TXN_TYPE']=='CASH WITHDRAWAL'"
      ],
      "metadata": {
        "id": "_32hynTkYoEp"
      },
      "execution_count": null,
      "outputs": []
    },
    {
      "cell_type": "code",
      "source": [
        "tpt_cashwdl=tpt.loc[tpt['TXN_TYPE']=='CASH WITHDRAWAL',:]"
      ],
      "metadata": {
        "id": "LDgVacTlYuvL"
      },
      "execution_count": null,
      "outputs": []
    },
    {
      "cell_type": "code",
      "source": [
        "tpt_cashwdl"
      ],
      "metadata": {
        "id": "9kqbXUyBY7hD"
      },
      "execution_count": null,
      "outputs": []
    },
    {
      "cell_type": "code",
      "source": [
        "sorted_cashwdl=tpt_cashwdl.sort_values('TRA_AMT',ascending=False)"
      ],
      "metadata": {
        "id": "uRpd_NBKY9_V"
      },
      "execution_count": null,
      "outputs": []
    },
    {
      "cell_type": "code",
      "source": [
        "sorted_cashwdl"
      ],
      "metadata": {
        "id": "za1xDRXVZA-1"
      },
      "execution_count": null,
      "outputs": []
    },
    {
      "cell_type": "code",
      "source": [
        "sorted_cashwdl['TRA_AMT']>=10000001"
      ],
      "metadata": {
        "id": "m_lX_qiDZDJq"
      },
      "execution_count": null,
      "outputs": []
    },
    {
      "cell_type": "code",
      "source": [
        "aml_amt=sorted_cashwdl.loc[sorted_cashwdl['TRA_AMT']>=10000001,:]"
      ],
      "metadata": {
        "id": "iYVGvve1ZGIt"
      },
      "execution_count": null,
      "outputs": []
    },
    {
      "cell_type": "code",
      "source": [
        "aml_amt"
      ],
      "metadata": {
        "id": "DGPtcaWaZKe-"
      },
      "execution_count": null,
      "outputs": []
    },
    {
      "cell_type": "code",
      "source": [
        "df_2=pd.DataFrame(aml_amt)"
      ],
      "metadata": {
        "id": "MiFq_YQbc_Ly"
      },
      "execution_count": null,
      "outputs": []
    },
    {
      "cell_type": "code",
      "source": [
        "writer=pd.ExcelWriter('/content/Above 10M.xlsx')\n",
        "df_2.to_excel(writer,sheet_name='df_2',index=False)\n",
        "writer.save()"
      ],
      "metadata": {
        "id": "MotP1KcZbAKu"
      },
      "execution_count": null,
      "outputs": []
    },
    {
      "cell_type": "code",
      "source": [],
      "metadata": {
        "id": "kkoziRZsZ5r6"
      },
      "execution_count": null,
      "outputs": []
    },
    {
      "cell_type": "code",
      "source": [],
      "metadata": {
        "id": "uLHHBCKyYdFz"
      },
      "execution_count": null,
      "outputs": []
    },
    {
      "cell_type": "code",
      "source": [],
      "metadata": {
        "id": "Zl2f82JZYc2-"
      },
      "execution_count": null,
      "outputs": []
    },
    {
      "cell_type": "code",
      "source": [
        "#df_2=pd.concat(aml_amt, axis=0)\n",
        "#df_2.to_excel('Above 10M.xlsx', index=False)"
      ],
      "metadata": {
        "id": "6qWCs7MAZMiy"
      },
      "execution_count": null,
      "outputs": []
    }
  ]
}